{
 "cells": [
  {
   "cell_type": "code",
   "execution_count": 9,
   "metadata": {},
   "outputs": [
    {
     "name": "stdout",
     "output_type": "stream",
     "text": [
      "It's not a food item\n",
      "Don't be greedy\n",
      "Don't be greedy\n",
      "Yummy\n"
     ]
    }
   ],
   "source": [
    "list1 = ['number', 'letter', 'period', 'cake']\n",
    "\n",
    "for val in list1:\n",
    "    if val == 'cake':\n",
    "        print('Yummy')\n",
    "    elif val == 'number':\n",
    "        print('It\\'s not a food item')\n",
    "    else:\n",
    "        print('Don\\'t be greedy')"
   ]
  },
  {
   "cell_type": "code",
   "execution_count": 17,
   "metadata": {},
   "outputs": [
    {
     "name": "stdout",
     "output_type": "stream",
     "text": [
      "zero\n"
     ]
    }
   ],
   "source": [
    "if 'number'  in list1:\n",
    "    print ('figure')\n",
    "else:\n",
    "    print('zero')"
   ]
  },
  {
   "cell_type": "code",
   "execution_count": 12,
   "metadata": {},
   "outputs": [
    {
     "name": "stdout",
     "output_type": "stream",
     "text": [
      "song\n"
     ]
    }
   ],
   "source": [
    "if 'lullaby' not in list1:\n",
    "    print ('song')"
   ]
  },
  {
   "cell_type": "code",
   "execution_count": 44,
   "metadata": {},
   "outputs": [],
   "source": [
    "def calc(n1, n2, op):\n",
    "    if op == '+':\n",
    "        print(n1 + n2)\n",
    "    elif op == '-':\n",
    "        print(n1 - n2)\n",
    "    elif op == '*':\n",
    "        print(n1*n2)\n",
    "    elif op == '%':\n",
    "        print(n1%n2)\n",
    "    elif op == '**':\n",
    "        print(n1**n2)"
   ]
  },
  {
   "cell_type": "code",
   "execution_count": 54,
   "metadata": {},
   "outputs": [
    {
     "name": "stdin",
     "output_type": "stream",
     "text": [
      "Enter number 1  4\n",
      "Enter number 2  2\n",
      "Write the function  %\n"
     ]
    }
   ],
   "source": [
    "n1 = int(input('Enter number 1 '))\n",
    "n2 = int(input('Enter number 2 '))\n",
    "op = input('Write the function ')\n",
    "calc(n1, n2, op)"
   ]
  },
  {
   "cell_type": "code",
   "execution_count": null,
   "metadata": {},
   "outputs": [],
   "source": []
  }
 ],
 "metadata": {
  "kernelspec": {
   "display_name": "Python 3",
   "language": "python",
   "name": "python3"
  },
  "language_info": {
   "codemirror_mode": {
    "name": "ipython",
    "version": 3
   },
   "file_extension": ".py",
   "mimetype": "text/x-python",
   "name": "python",
   "nbconvert_exporter": "python",
   "pygments_lexer": "ipython3",
   "version": "3.8.5"
  }
 },
 "nbformat": 4,
 "nbformat_minor": 4
}
